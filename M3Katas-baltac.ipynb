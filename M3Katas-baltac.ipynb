{
 "cells": [
  {
   "cell_type": "code",
   "execution_count": null,
   "metadata": {},
   "outputs": [],
   "source": []
  },
  {
   "cell_type": "markdown",
   "metadata": {},
   "source": [
    "# Expresiones de Prueba"
   ]
  },
  {
   "cell_type": "code",
   "execution_count": 4,
   "metadata": {},
   "outputs": [
    {
     "name": "stdout",
     "output_type": "stream",
     "text": [
      "55\n"
     ]
    }
   ],
   "source": [
    "# Tip de práctica 1: Intenta ejecutarlo en un notebook.\n",
    "a=42\n",
    "b=55\n",
    "# test expression / expresión de prueba\n",
    "if a<b:\n",
    "    # statement to be run / instrucción a ejecutar\n",
    "    print(b)"
   ]
  },
  {
   "cell_type": "markdown",
   "metadata": {},
   "source": [
    "# Escribir declaraciones if"
   ]
  },
  {
   "cell_type": "code",
   "execution_count": 7,
   "metadata": {},
   "outputs": [
    {
     "name": "stdout",
     "output_type": "stream",
     "text": [
      "93\n"
     ]
    }
   ],
   "source": [
    "# Tip de práctica 2:\n",
    "a = 93\n",
    "b = 27\n",
    "if a >= b:\n",
    "    print(a)"
   ]
  },
  {
   "cell_type": "code",
   "execution_count": 13,
   "metadata": {},
   "outputs": [
    {
     "name": "stdout",
     "output_type": "stream",
     "text": [
      "-24\n",
      "-44\n"
     ]
    }
   ],
   "source": [
    "a = -24\n",
    "b = -44\n",
    "if a <= 0:\n",
    "    print(a)\n",
    "    print(b)"
   ]
  },
  {
   "cell_type": "code",
   "execution_count": 15,
   "metadata": {},
   "outputs": [
    {
     "name": "stdout",
     "output_type": "stream",
     "text": [
      "27\n"
     ]
    }
   ],
   "source": [
    "a = 2\n",
    "b = 27\n",
    "if a >= b:\n",
    "    print(a)\n",
    "else:\n",
    "    print(b)"
   ]
  },
  {
   "cell_type": "code",
   "execution_count": 21,
   "metadata": {},
   "outputs": [
    {
     "name": "stdout",
     "output_type": "stream",
     "text": [
      "a es igual que b\n"
     ]
    }
   ],
   "source": [
    "a = 27\n",
    "b = 27\n",
    "if a > b:\n",
    "    print(\"a es mayor o igual que b\")\n",
    "elif a == b:\n",
    "    print(\"a es igual que b\")"
   ]
  },
  {
   "cell_type": "code",
   "execution_count": 24,
   "metadata": {},
   "outputs": [
    {
     "name": "stdout",
     "output_type": "stream",
     "text": [
      "a es igual que b\n"
     ]
    }
   ],
   "source": [
    "a = 27\n",
    "b = 27\n",
    "if a > b:\n",
    "    print(\"a es mayor que b\")\n",
    "elif a < b:\n",
    "    print(\"a es menor que b\")\n",
    "else: \n",
    "    print (\"a es igual que b\")"
   ]
  },
  {
   "cell_type": "code",
   "execution_count": 29,
   "metadata": {},
   "outputs": [
    {
     "name": "stdout",
     "output_type": "stream",
     "text": [
      "a es menor que b\n"
     ]
    }
   ],
   "source": [
    "a = 27\n",
    "b = 72\n",
    "c = 27\n",
    "if a > b:\n",
    "    if b > c:\n",
    "        print (\"a es mayor que b y b es mayor que c\")\n",
    "    else: \n",
    "        print (\"a es mayor que b y menor que c\")\n",
    "elif a == b:\n",
    "    print (\"a es igual que b\")\n",
    "else:\n",
    "    print (\"a es menor que b\")"
   ]
  },
  {
   "cell_type": "code",
   "execution_count": 32,
   "metadata": {},
   "outputs": [],
   "source": [
    "# El operador or\n",
    "a = 78\n",
    "b = 3\n",
    "if a == 34 or b == 34:\n",
    "    print(a + b)"
   ]
  },
  {
   "cell_type": "code",
   "execution_count": 34,
   "metadata": {},
   "outputs": [
    {
     "name": "stdout",
     "output_type": "stream",
     "text": [
      "68\n"
     ]
    }
   ],
   "source": [
    "#El operador and\n",
    "a = 34\n",
    "b = 34\n",
    "if a == 34 and b == 34:\n",
    "    print (a + b)"
   ]
  },
  {
   "cell_type": "markdown",
   "metadata": {},
   "source": [
    "Ejercicio - Escribir declaraciones if, else, y elif"
   ]
  },
  {
   "cell_type": "code",
   "execution_count": 49,
   "metadata": {},
   "outputs": [
    {
     "name": "stdout",
     "output_type": "stream",
     "text": [
      "Advertencia!!! Un Asteroide se acerca demaciado rapido a la Tierra\n"
     ]
    }
   ],
   "source": [
    "velaste = 49\n",
    "if velaste > 25:\n",
    "    print(\"Advertencia!!! Un Asteroide se acerca demaciado rapido a la Tierra\")\n",
    "elif velaste == 25:\n",
    "    print(\"Atento Houston\")\n",
    "else:    \n",
    "    print(\"Todo Normal Houston\")"
   ]
  },
  {
   "cell_type": "code",
   "execution_count": 52,
   "metadata": {},
   "outputs": [
    {
     "name": "stdout",
     "output_type": "stream",
     "text": [
      "Todo Normal Tierra\n"
     ]
    }
   ],
   "source": [
    "astevia = 18\n",
    "if astevia >= 20:\n",
    "    print(\"Tierra un Asteroide es visible buscandolo en el cielo\")\n",
    "elif astevia == 19:\n",
    "    print(\"Tierra atentos es posible un avistamiento de un Asteroide\")\n",
    "else:    \n",
    "    print(\"Todo Normal Tierra\")"
   ]
  },
  {
   "cell_type": "markdown",
   "metadata": {},
   "source": [
    "# Ejercicio: Uso de operadores and y or"
   ]
  },
  {
   "cell_type": "code",
   "execution_count": 104,
   "metadata": {},
   "outputs": [
    {
     "name": "stdout",
     "output_type": "stream",
     "text": [
      "Peligro inminente, un asteriode amenaza algun punto de la Tierra\n"
     ]
    }
   ],
   "source": [
    "astedia = 26\n",
    "astvel = 25\n",
    "if astedia > 25 and astedia <= 1000:\n",
    "    if astvel >= 25:\n",
    "        print(\"Peligro inminente, un asteriode amenaza algun punto de la Tierra\")\n",
    "    elif astvel >= 20 or astvel < 25 or astedia <= 25:\n",
    "        print(\"Tierra atentos es posible un avistamiento de un Asteroide\")\n",
    "else:    \n",
    "    print(\"Todo Normal Tierra\")"
   ]
  },
  {
   "cell_type": "code",
   "execution_count": 88,
   "metadata": {},
   "outputs": [
    {
     "name": "stdout",
     "output_type": "stream",
     "text": [
      "Look up! ¡Hay una luz mágica en el cielo!\n"
     ]
    }
   ],
   "source": [
    "velocidad_asteroide = 20\n",
    "tamano_asteroide = 24\n",
    "if velocidad_asteroide > 25 and tamano_asteroide > 25:\n",
    "    print('¡Alerta, Un asteroide muy peligroso viene hacia la Tierra!')\n",
    "elif velocidad_asteroide >= 20:\n",
    "    print('Look up! ¡Hay una luz mágica en el cielo!')\n",
    "elif tamano_asteroide < 25:\n",
    "    print('Nada que ver aquí :)')\n",
    "else:\n",
    "    print('Nada que ver aquí :)')\n"
   ]
  }
 ],
 "metadata": {
  "interpreter": {
   "hash": "9320aa70c2a0380ff3b0dc5d49033f509e299a81b87d654ab5459c06c83b2336"
  },
  "kernelspec": {
   "display_name": "Python 3.10.2 64-bit",
   "language": "python",
   "name": "python3"
  },
  "language_info": {
   "codemirror_mode": {
    "name": "ipython",
    "version": 3
   },
   "file_extension": ".py",
   "mimetype": "text/x-python",
   "name": "python",
   "nbconvert_exporter": "python",
   "pygments_lexer": "ipython3",
   "version": "3.10.2"
  },
  "orig_nbformat": 4
 },
 "nbformat": 4,
 "nbformat_minor": 2
}
