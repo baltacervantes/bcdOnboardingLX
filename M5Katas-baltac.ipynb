{
 "cells": [
  {
   "cell_type": "markdown",
   "metadata": {},
   "source": [
    "# Módulo5Katas"
   ]
  },
  {
   "cell_type": "markdown",
   "metadata": {},
   "source": [
    "#Ejercicio1 - Utilizar operadores aritméticos"
   ]
  },
  {
   "cell_type": "code",
   "execution_count": 52,
   "metadata": {},
   "outputs": [
    {
     "name": "stdout",
     "output_type": "stream",
     "text": [
      "628949330\n",
      "390577534\n"
     ]
    }
   ],
   "source": [
    "tierra = 149597870\n",
    "jupiter = 778547200\n",
    "dist = abs(tierra - jupiter)\n",
    "print(dist)\n",
    "print(round(dist*0.621)) #lei mal lo de restale el primero del \n",
    "#segundo y me dio negativos, pero cambie con codigos vistos"
   ]
  },
  {
   "cell_type": "markdown",
   "metadata": {},
   "source": [
    "#Ejercicio 2: convierte cadenas en números y usa valores absolutos"
   ]
  },
  {
   "cell_type": "code",
   "execution_count": 60,
   "metadata": {},
   "outputs": [
    {
     "name": "stdout",
     "output_type": "stream",
     "text": [
      "4437200000\n",
      "2755501200\n"
     ]
    }
   ],
   "source": [
    "distpplanet = input((\"Distancia del Primer Planeta al Sol:\"))\n",
    "distpplanet= int(distpplanet)\n",
    "distsplanet = input((\"Distancia del Segundo Planeta al Sol\"))\n",
    "distsplanet = int(distsplanet)\n",
    "distentre = abs(distpplanet - distsplanet)\n",
    "print(distentre)\n",
    "print(round(distentre*0.621))"
   ]
  },
  {
   "cell_type": "markdown",
   "metadata": {},
   "source": [
    "# Módulo 5 - Operaciones matemáticas"
   ]
  },
  {
   "cell_type": "code",
   "execution_count": 48,
   "metadata": {},
   "outputs": [
    {
     "name": "stdout",
     "output_type": "stream",
     "text": [
      "13\n",
      "12\n"
     ]
    }
   ],
   "source": [
    "#answer = 30 + 12\n",
    "#print(answer)\n",
    "#difference = 30 - 12\n",
    "#print(difference)\n",
    "#product = 30 * 12\n",
    "#print(product)\n",
    "#quotient = 30 / 12\n",
    "#print(quotient)\n",
    "#seconds = 1042\n",
    "#display_minutes = 1042 // 60 #porque no uso la variable del valor de segundos?\n",
    "#print(display_minutes)\n",
    "#seconds = 1042\n",
    "#display_minutes = 1042 // 60\n",
    "#display_seconds = 1042 % 60\n",
    "#print(display_minutes)\n",
    "#print(display_seconds)\n",
    "#result_1 = 1032 + 26 * 2\n",
    "#result_2 = 1032 + (26 * 2)\n",
    "#print(result_1, result_2)\n",
    "#demo_int = int('215')\n",
    "#print(demo_int)\n",
    "#demo_float = float('215.3')\n",
    "#print(demo_float)\n",
    "#a = 39 - 16\n",
    "#b = 16 - 39\n",
    "#print(a, b)\n",
    "#print(abs(39 - 16))\n",
    "#print(abs(16 - 39))\n",
    "#print(round(14.5)) #14.5 lo redondeo hacia abajo 14\n",
    "from math import ceil, floor\n",
    "\n",
    "round_up = ceil(12.2)\n",
    "print(round_up)\n",
    "\n",
    "round_down = floor(12.9)\n",
    "print(round_down)\n"
   ]
  }
 ],
 "metadata": {
  "interpreter": {
   "hash": "9320aa70c2a0380ff3b0dc5d49033f509e299a81b87d654ab5459c06c83b2336"
  },
  "kernelspec": {
   "display_name": "Python 3.10.2 64-bit",
   "language": "python",
   "name": "python3"
  },
  "language_info": {
   "codemirror_mode": {
    "name": "ipython",
    "version": 3
   },
   "file_extension": ".py",
   "mimetype": "text/x-python",
   "name": "python",
   "nbconvert_exporter": "python",
   "pygments_lexer": "ipython3",
   "version": "3.10.2"
  },
  "orig_nbformat": 4
 },
 "nbformat": 4,
 "nbformat_minor": 2
}
