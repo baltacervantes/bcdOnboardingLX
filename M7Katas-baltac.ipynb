{
 "cells": [
  {
   "cell_type": "markdown",
   "metadata": {},
   "source": [
    "# Módulo7Katas"
   ]
  },
  {
   "cell_type": "code",
   "execution_count": 11,
   "metadata": {},
   "outputs": [
    {
     "name": "stdout",
     "output_type": "stream",
     "text": [
      "['Venus', 'Marte', 'Jupiter', 'Saturno', 'Urano', 'Mercurio', 'Tierra']\n"
     ]
    }
   ],
   "source": [
    "nuevoplaneta = ''\n",
    "planetas = []\n",
    "while nuevoplaneta.lower() != 'done':\n",
    "    if nuevoplaneta:\n",
    "        planetas.append(nuevoplaneta)\n",
    "    nuevoplaneta = input('Ingresa un nombre de Planeta, o escribe \"done\" si has terminado de ingresar todos' )\n",
    "print(planetas)"
   ]
  },
  {
   "cell_type": "code",
   "execution_count": 13,
   "metadata": {},
   "outputs": [
    {
     "name": "stdout",
     "output_type": "stream",
     "text": [
      "Mercurio\n",
      "Venus\n",
      "Tierra\n",
      "Marte\n",
      "Jupiter\n",
      "Saturno\n",
      "Urano\n",
      "Neptuno\n"
     ]
    }
   ],
   "source": [
    "nuevoplaneta = ''\n",
    "planetas = []\n",
    "while nuevoplaneta.lower() != 'done':\n",
    "    if nuevoplaneta:\n",
    "        planetas.append(nuevoplaneta)\n",
    "    nuevoplaneta = input('Ingresa un nombre de Planeta, o escribe \"done\" si has terminado de ingresar todos' )\n",
    "from time import sleep\n",
    "for planeta in planetas:\n",
    "    print(planeta)\n",
    "    sleep(1)"
   ]
  },
  {
   "cell_type": "markdown",
   "metadata": {},
   "source": [
    "# Módulo 7 - Estructuras de control"
   ]
  },
  {
   "cell_type": "code",
   "execution_count": 6,
   "metadata": {},
   "outputs": [
    {
     "name": "stdout",
     "output_type": "stream",
     "text": [
      "['Hola', 'como', 'te', 'va']\n"
     ]
    }
   ],
   "source": [
    "user_input = ''\n",
    "inputs = []\n",
    "while user_input.lower() != 'done':\n",
    "    if user_input:\n",
    "        inputs.append(user_input)\n",
    "    user_input = input('Enter a new value, or done when done')\n",
    "print(inputs)\n"
   ]
  },
  {
   "cell_type": "code",
   "execution_count": 10,
   "metadata": {},
   "outputs": [
    {
     "name": "stdout",
     "output_type": "stream",
     "text": [
      "4\n",
      "3\n",
      "2\n",
      "1\n",
      "0\n",
      "Blast off!! 🚀\n"
     ]
    }
   ],
   "source": [
    "from time import sleep\n",
    "countdown = [4, 3, 2, 1, 0]\n",
    "for number in countdown:\n",
    "    print(number)\n",
    "    sleep(1)\n",
    "print(\"Blast off!! 🚀\")"
   ]
  }
 ],
 "metadata": {
  "interpreter": {
   "hash": "9320aa70c2a0380ff3b0dc5d49033f509e299a81b87d654ab5459c06c83b2336"
  },
  "kernelspec": {
   "display_name": "Python 3.10.2 64-bit",
   "language": "python",
   "name": "python3"
  },
  "language_info": {
   "codemirror_mode": {
    "name": "ipython",
    "version": 3
   },
   "file_extension": ".py",
   "mimetype": "text/x-python",
   "name": "python",
   "nbconvert_exporter": "python",
   "pygments_lexer": "ipython3",
   "version": "3.10.2"
  },
  "orig_nbformat": 4
 },
 "nbformat": 4,
 "nbformat_minor": 2
}
